{
 "cells": [
  {
   "cell_type": "markdown",
   "metadata": {},
   "source": [
    "*This notebook aims to provide a basic overview of my openings and their outcomes*"
   ]
  },
  {
   "cell_type": "markdown",
   "metadata": {},
   "source": [
    "Import all necessary dependencies"
   ]
  },
  {
   "cell_type": "code",
   "execution_count": 40,
   "metadata": {},
   "outputs": [],
   "source": [
    "import pandas as pd\n",
    "import numpy as np"
   ]
  },
  {
   "cell_type": "markdown",
   "metadata": {},
   "source": [
    "Read in games data as pandas dataframe"
   ]
  },
  {
   "cell_type": "code",
   "execution_count": 41,
   "metadata": {},
   "outputs": [
    {
     "name": "stdout",
     "output_type": "stream",
     "text": [
      "<class 'pandas.core.frame.DataFrame'>\n",
      "RangeIndex: 659 entries, 0 to 658\n",
      "Data columns (total 9 columns):\n",
      " #   Column          Non-Null Count  Dtype \n",
      "---  ------          --------------  ----- \n",
      " 0   White Username  659 non-null    object\n",
      " 1   Black Username  659 non-null    object\n",
      " 2   Time Control    659 non-null    int64 \n",
      " 3   Game Result     659 non-null    object\n",
      " 4   Date            659 non-null    object\n",
      " 5   White Elo       659 non-null    int64 \n",
      " 6   Black Elo       659 non-null    int64 \n",
      " 7   Opening         659 non-null    object\n",
      " 8   Moves           659 non-null    object\n",
      "dtypes: int64(3), object(6)\n",
      "memory usage: 46.5+ KB\n"
     ]
    }
   ],
   "source": [
    "chess_df = pd.read_csv('Datasets/all_games.csv')\n",
    "chess_df.info()"
   ]
  },
  {
   "cell_type": "markdown",
   "metadata": {},
   "source": [
    "Separate data into black vs white"
   ]
  },
  {
   "cell_type": "code",
   "execution_count": 42,
   "metadata": {},
   "outputs": [
    {
     "name": "stdout",
     "output_type": "stream",
     "text": [
      "<class 'pandas.core.frame.DataFrame'>\n",
      "Int64Index: 330 entries, 329 to 658\n",
      "Data columns (total 9 columns):\n",
      " #   Column          Non-Null Count  Dtype \n",
      "---  ------          --------------  ----- \n",
      " 0   White Username  330 non-null    object\n",
      " 1   Black Username  330 non-null    object\n",
      " 2   Time Control    330 non-null    int64 \n",
      " 3   Game Result     330 non-null    object\n",
      " 4   Date            330 non-null    object\n",
      " 5   White Elo       330 non-null    int64 \n",
      " 6   Black Elo       330 non-null    int64 \n",
      " 7   Opening         330 non-null    object\n",
      " 8   Moves           330 non-null    object\n",
      "dtypes: int64(3), object(6)\n",
      "memory usage: 25.8+ KB\n",
      "<class 'pandas.core.frame.DataFrame'>\n",
      "Int64Index: 329 entries, 0 to 328\n",
      "Data columns (total 9 columns):\n",
      " #   Column          Non-Null Count  Dtype \n",
      "---  ------          --------------  ----- \n",
      " 0   White Username  329 non-null    object\n",
      " 1   Black Username  329 non-null    object\n",
      " 2   Time Control    329 non-null    int64 \n",
      " 3   Game Result     329 non-null    object\n",
      " 4   Date            329 non-null    object\n",
      " 5   White Elo       329 non-null    int64 \n",
      " 6   Black Elo       329 non-null    int64 \n",
      " 7   Opening         329 non-null    object\n",
      " 8   Moves           329 non-null    object\n",
      "dtypes: int64(3), object(6)\n",
      "memory usage: 25.7+ KB\n"
     ]
    }
   ],
   "source": [
    "chess_white_df = chess_df[chess_df['White Username'] == 'Tejas299']\n",
    "chess_black_df = chess_df[chess_df['Black Username'] == 'Tejas299']\n",
    "chess_white_df.info()\n",
    "chess_black_df.info()"
   ]
  },
  {
   "cell_type": "markdown",
   "metadata": {},
   "source": [
    "Group data by opening to visualize trends"
   ]
  },
  {
   "cell_type": "code",
   "execution_count": 43,
   "metadata": {},
   "outputs": [
    {
     "name": "stdout",
     "output_type": "stream",
     "text": [
      "white: B01    31\n",
      "C50    24\n",
      "B00    19\n",
      "C42    17\n",
      "C41    17\n",
      "C40    16\n",
      "C00    16\n",
      "C25    14\n",
      "C47    14\n",
      "B12    13\n",
      "Name: Opening, dtype: int64\n",
      "black: C20    37\n",
      "C50    29\n",
      "C45    25\n",
      "D00    20\n",
      "C44    19\n",
      "A40    19\n",
      "A00    17\n",
      "D02    11\n",
      "C42    10\n",
      "B01    10\n",
      "Name: Opening, dtype: int64\n"
     ]
    }
   ],
   "source": [
    "white_counts = chess_white_df['Opening'].value_counts(ascending=False)\n",
    "print('white:', white_counts.head(10))\n",
    "black_counts = chess_black_df['Opening'].value_counts(ascending=False)\n",
    "print('black:', black_counts.head(10))"
   ]
  },
  {
   "cell_type": "markdown",
   "metadata": {},
   "source": [
    "Calculate win/draw/loss for each opening"
   ]
  },
  {
   "cell_type": "code",
   "execution_count": 47,
   "metadata": {},
   "outputs": [
    {
     "name": "stdout",
     "output_type": "stream",
     "text": [
      "{'B01': array([0.51612903, 0.03225806, 0.4516129 ]), 'C50': array([0.45833333, 0.04166667, 0.5       ]), 'B00': array([0.52631579, 0.        , 0.47368421]), 'C42': array([0.58823529, 0.05882353, 0.35294118]), 'C41': array([0.52941176, 0.05882353, 0.41176471]), 'C40': array([0.4375, 0.    , 0.5625]), 'C00': array([0.5625, 0.125 , 0.3125]), 'C25': array([0.64285714, 0.07142857, 0.28571429]), 'C47': array([0.64285714, 0.07142857, 0.28571429]), 'B12': array([0.46153846, 0.        , 0.53846154]), 'C46': array([0.33333333, 0.        , 0.66666667]), 'C20': array([0.5, 0. , 0.5]), 'C21': array([0.45454545, 0.09090909, 0.45454545]), 'C22': array([0.375, 0.   , 0.625]), 'C55': array([0.75, 0.  , 0.25]), 'C45': array([0.85714286, 0.        , 0.14285714]), 'C44': array([0.42857143, 0.14285714, 0.42857143]), 'B10': array([0.28571429, 0.14285714, 0.57142857]), 'C51': array([0.57142857, 0.14285714, 0.28571429]), 'B30': array([0.5, 0. , 0.5]), 'B07': array([1., 0., 0.]), 'B40': array([0.4, 0. , 0.6]), 'B23': array([0.2, 0. , 0.8]), 'B21': array([0.4, 0.2, 0.4]), 'C26': array([1., 0., 0.]), 'B02': array([0.5, 0. , 0.5]), 'B06': array([0.25, 0.  , 0.75]), 'C10': array([0.33333333, 0.33333333, 0.33333333]), 'C01': array([0. , 0.5, 0.5]), 'B20': array([1., 0., 0.]), 'B27': array([0.5, 0. , 0.5]), 'C02': array([1., 0., 0.]), 'C24': array([1., 0., 0.]), 'A04': array([0.5, 0. , 0.5]), 'B16': array([1., 0., 0.]), 'B03': array([0., 0., 1.]), 'D02': array([0., 1., 0.]), 'B22': array([0., 0., 1.]), 'B28': array([1., 0., 0.]), 'A10': array([0., 0., 1.]), 'B54': array([1., 0., 0.]), 'C23': array([0., 0., 1.]), 'A21': array([0., 0., 1.]), 'C48': array([0., 0., 1.]), 'B08': array([0., 1., 0.]), 'C77': array([1., 0., 0.]), 'C70': array([1., 0., 0.]), 'C61': array([0., 0., 1.]), 'B15': array([1., 0., 0.]), 'A00': array([0., 1., 0.])}\n",
      "{'C20': array([0.62162162, 0.        , 0.37837838]), 'C50': array([0.44827586, 0.03448276, 0.51724138]), 'C45': array([0.28, 0.04, 0.68]), 'D00': array([0.45, 0.05, 0.5 ]), 'C44': array([0.47368421, 0.05263158, 0.47368421]), 'A40': array([0.36842105, 0.05263158, 0.57894737]), 'A00': array([0.70588235, 0.17647059, 0.11764706]), 'D02': array([0.45454545, 0.09090909, 0.45454545]), 'C42': array([0.3, 0. , 0.7]), 'B01': array([0.4, 0. , 0.6]), 'C40': array([0.3, 0.1, 0.6]), 'C62': array([0.33333333, 0.11111111, 0.55555556]), 'C57': array([0.85714286, 0.        , 0.14285714]), 'D20': array([0.42857143, 0.        , 0.57142857]), 'C46': array([0.57142857, 0.        , 0.42857143]), 'C21': array([0.33333333, 0.        , 0.66666667]), 'C47': array([0.5, 0. , 0.5]), 'B02': array([0.4, 0.2, 0.4]), 'C22': array([1., 0., 0.]), 'C55': array([0.25, 0.  , 0.75]), 'C24': array([0.75, 0.  , 0.25]), 'C25': array([0.5 , 0.25, 0.25]), 'A45': array([1., 0., 0.]), 'C65': array([0.33333333, 0.        , 0.66666667]), 'C41': array([0.66666667, 0.        , 0.33333333]), 'B00': array([0.33333333, 0.        , 0.66666667]), 'B20': array([0.66666667, 0.        , 0.33333333]), 'C68': array([0.33333333, 0.        , 0.66666667]), 'A06': array([0.66666667, 0.33333333, 0.        ]), 'C26': array([0.        , 0.33333333, 0.66666667]), 'B23': array([1., 0., 0.]), 'C00': array([0., 0., 1.]), 'C30': array([0., 0., 1.]), 'C60': array([0., 0., 1.]), 'D07': array([0.5, 0. , 0.5]), 'C28': array([0.5, 0. , 0.5]), 'C48': array([0.5, 0. , 0.5]), 'C64': array([0., 0., 1.]), 'A48': array([1., 0., 0.]), 'B06': array([0., 0., 1.]), 'E70': array([1., 0., 0.]), 'C61': array([1., 0., 0.]), 'C31': array([0., 0., 1.]), 'A20': array([0., 0., 1.]), 'B27': array([0., 0., 1.]), 'C23': array([1., 0., 0.]), 'B03': array([1., 0., 0.]), 'A46': array([0., 0., 1.]), 'C54': array([0., 0., 1.]), 'D05': array([0., 0., 1.]), 'A22': array([0., 0., 1.]), 'C35': array([0., 0., 1.]), 'B07': array([1., 0., 0.]), 'C53': array([0., 0., 1.]), 'A02': array([0., 0., 1.])}\n"
     ]
    }
   ],
   "source": [
    "white_opening_wdl = {}\n",
    "black_opening_wdl = {}\n",
    "for opening in white_counts.index:\n",
    "    df_open = chess_white_df[chess_white_df['Opening'] == opening]\n",
    "    open_counts = df_open['Game Result'].value_counts()\n",
    "    if '1-0' in open_counts.index:\n",
    "        wins = open_counts.loc['1-0']\n",
    "    else:\n",
    "        wins = 0\n",
    "    if '1/2-1/2' in open_counts.index:\n",
    "        draws = open_counts.loc['1/2-1/2']\n",
    "    else:\n",
    "        draws = 0\n",
    "    if '0-1' in open_counts.index:\n",
    "        losses = open_counts.loc['0-1']\n",
    "    else:\n",
    "        losses = 0\n",
    "    wdl = [wins, draws, losses]\n",
    "    white_opening_wdl[opening] = np.array(wdl) / sum(wdl)\n",
    "for opening in black_counts.index:\n",
    "    df_open = chess_black_df[chess_black_df['Opening'] == opening]\n",
    "    open_counts = df_open['Game Result'].value_counts()\n",
    "    if '0-1' in open_counts.index:\n",
    "        wins = open_counts.loc['0-1']\n",
    "    else:\n",
    "        wins = 0\n",
    "    if '1/2-1/2' in open_counts.index:\n",
    "        draws = open_counts.loc['1/2-1/2']\n",
    "    else:\n",
    "        draws = 0\n",
    "    if '1-0' in open_counts.index:\n",
    "        losses = open_counts.loc['1-0']\n",
    "    else:\n",
    "        losses = 0\n",
    "    wdl = [wins, draws, losses]\n",
    "    black_opening_wdl[opening] = np.array(wdl) / sum(wdl)\n",
    "print(white_opening_wdl)\n",
    "print(black_opening_wdl)"
   ]
  }
 ],
 "metadata": {
  "kernelspec": {
   "display_name": "Python 3",
   "language": "python",
   "name": "python3"
  },
  "language_info": {
   "codemirror_mode": {
    "name": "ipython",
    "version": 3
   },
   "file_extension": ".py",
   "mimetype": "text/x-python",
   "name": "python",
   "nbconvert_exporter": "python",
   "pygments_lexer": "ipython3",
   "version": "3.9.1"
  }
 },
 "nbformat": 4,
 "nbformat_minor": 2
}
